{
  "nbformat": 4,
  "nbformat_minor": 0,
  "metadata": {
    "colab": {
      "name": "model_training.ipynb",
      "version": "0.3.2",
      "provenance": []
    },
    "language_info": {
      "codemirror_mode": {
        "name": "ipython",
        "version": 3
      },
      "file_extension": ".py",
      "mimetype": "text/x-python",
      "name": "python",
      "nbconvert_exporter": "python",
      "pygments_lexer": "ipython3",
      "version": "3.6.3"
    },
    "kernelspec": {
      "display_name": "Python 3",
      "language": "python",
      "name": "python3"
    }
  },
  "cells": [
    {
      "cell_type": "code",
      "metadata": {
        "id": "M9mLBGhmDRWX",
        "colab_type": "code",
        "colab": {}
      },
      "source": [
        "#Libraries\n",
        "\n",
        "import pandas as pd\n",
        "import numpy as np\n",
        "import matplotlib.pyplot as plt\n",
        "from sklearn import preprocessing\n",
        "from sklearn.model_selection import train_test_split\n",
        "from sklearn.linear_model import LogisticRegression\n",
        "from sklearn.neighbors import KNeighborsClassifier\n",
        "from sklearn.metrics import accuracy_score\n",
        "from sklearn.metrics import confusion_matrix\n",
        "from sklearn.ensemble import RandomForestClassifier\n",
        "from xgboost import XGBClassifier\n",
        "from sklearn.svm import SVC\n",
        "import seaborn as sns\n",
        "\n",
        "\n",
        "%matplotlib inline"
      ],
      "execution_count": 0,
      "outputs": []
    },
    {
      "cell_type": "markdown",
      "metadata": {
        "id": "XarEYpG_Dimc",
        "colab_type": "text"
      },
      "source": [
        ""
      ]
    },
    {
      "cell_type": "code",
      "metadata": {
        "id": "TKq70aHqDRWp",
        "colab_type": "code",
        "colab": {}
      },
      "source": [
        "url = 'https://raw.githubusercontent.com/vaibhav2610/Credit-risk-analysis/master/bank-loan-status-dataset/clean.csv'\n",
        "\n",
        "df = pd.read_csv(url)\n"
      ],
      "execution_count": 0,
      "outputs": []
    },
    {
      "cell_type": "code",
      "metadata": {
        "id": "erNKDkTNDRWs",
        "colab_type": "code",
        "colab": {
          "base_uri": "https://localhost:8080/",
          "height": 458
        },
        "outputId": "3938bdc9-6d59-47f4-e400-0e57db70215b"
      },
      "source": [
        "from sklearn.decomposition import PCA\n",
        "from sklearn.preprocessing import StandardScaler\n",
        "\n",
        "sc = StandardScaler()\n",
        "\n",
        "features = df.drop(labels=['Loan Status'],axis=1)\n",
        "targets = pd.DataFrame(df['Loan Status'])\n",
        "\n",
        "#try PCA to improve model\n",
        "features = sc.fit_transform(features)\n",
        "pca_data = PCA().fit(features)\n",
        "#Plot the Cumulative Summation of the Explained Variance\n",
        "plt.figure(figsize=(20,7))\n",
        "plt.plot(np.cumsum(pca_data.explained_variance_ratio_))\n",
        "plt.xlabel('Number of Components')\n",
        "plt.ylabel('Variance (%)') #for each component\n",
        "plt.title('VARIANCE')\n",
        "plt.show()"
      ],
      "execution_count": 48,
      "outputs": [
        {
          "output_type": "display_data",
          "data": {
            "image/png": "[encoded data removed]",
            "text/plain": [
              "<Figure size 1440x504 with 1 Axes>"
            ]
          },
          "metadata": {
            "tags": []
          }
        }
      ]
    },
    {
      "cell_type": "code",
      "metadata": {
        "id": "A1A1kYOImfWU",
        "colab_type": "code",
        "colab": {}
      },
      "source": [
        "features = PCA(n_components=29).fit_transform(features)"
      ],
      "execution_count": 0,
      "outputs": []
    },
    {
      "cell_type": "code",
      "metadata": {
        "id": "l9iOnlX7ld4l",
        "colab_type": "code",
        "colab": {
          "base_uri": "https://localhost:8080/",
          "height": 85
        },
        "outputId": "34cd659d-9f75-449d-a88e-4cef4b2eec7e"
      },
      "source": [
        "# Split into 80% training and 20% testing set\n",
        "X_train, X_test, y_train, y_test = train_test_split(features, targets, test_size = 0.2, random_state = 42)\n",
        "\n",
        "print(X_train.shape)\n",
        "print(X_test.shape)\n",
        "print(y_train.shape)\n",
        "print(y_test.shape)"
      ],
      "execution_count": 50,
      "outputs": [
        {
          "output_type": "stream",
          "text": [
            "(79835, 29)\n",
            "(19959, 29)\n",
            "(79835, 1)\n",
            "(19959, 1)\n"
          ],
          "name": "stdout"
        }
      ]
    },
    {
      "cell_type": "code",
      "metadata": {
        "id": "NIzGTp-dDRWx",
        "colab_type": "code",
        "colab": {
          "base_uri": "https://localhost:8080/",
          "height": 105
        },
        "outputId": "7f8f4a65-4459-4213-a72b-23d754b8372d"
      },
      "source": [
        "from sklearn.preprocessing import StandardScaler\n",
        "\n",
        "sc = StandardScaler()\n",
        "X_train = sc.fit_transform(X_train)\n",
        "X_test = sc.transform(X_test)\n",
        "\n",
        "# Encoding the Dependent Variable\n",
        "from sklearn.preprocessing import LabelEncoder, OneHotEncoder\n",
        "labelencoder_y_train = LabelEncoder()\n",
        "y_train = labelencoder_y_train.fit_transform(y_train)\n",
        "labelencoder_y_test = LabelEncoder()\n",
        "y_test = labelencoder_y_test.fit_transform(y_test)"
      ],
      "execution_count": 51,
      "outputs": [
        {
          "output_type": "stream",
          "text": [
            "/usr/local/lib/python3.6/dist-packages/sklearn/preprocessing/label.py:235: DataConversionWarning: A column-vector y was passed when a 1d array was expected. Please change the shape of y to (n_samples, ), for example using ravel().\n",
            "  y = column_or_1d(y, warn=True)\n",
            "/usr/local/lib/python3.6/dist-packages/sklearn/preprocessing/label.py:235: DataConversionWarning: A column-vector y was passed when a 1d array was expected. Please change the shape of y to (n_samples, ), for example using ravel().\n",
            "  y = column_or_1d(y, warn=True)\n"
          ],
          "name": "stderr"
        }
      ]
    },
    {
      "cell_type": "code",
      "metadata": {
        "id": "Yj3PnzfUDRW8",
        "colab_type": "code",
        "colab": {}
      },
      "source": [
        "def cross_val(X_train, y_train, model):\n",
        "    # Applying k-Fold Cross Validation\n",
        "    from sklearn.model_selection import cross_val_score\n",
        "    accuracies = cross_val_score(estimator = model, X = X_train, y = y_train, cv = 5)\n",
        "    return accuracies.mean()\n",
        "\n",
        "# Takes in a model, trains the model, and evaluates the model on the test set\n",
        "def fit_and_evaluate(model):\n",
        "    \n",
        "    # Train the model\n",
        "    model.fit(X_train, y_train)\n",
        "    \n",
        "    # Make predictions and evalute\n",
        "    model_pred = model.predict(X_test)\n",
        "    model_cross = cross_val(X_train, y_train, model)\n",
        "    \n",
        "    # Return the performance metric\n",
        "    return model_cross"
      ],
      "execution_count": 0,
      "outputs": []
    },
    {
      "cell_type": "markdown",
      "metadata": {
        "id": "wRSR6yWwer9y",
        "colab_type": "text"
      },
      "source": [
        "#Random Forest"
      ]
    },
    {
      "cell_type": "code",
      "metadata": {
        "id": "Hk9vMHsDDRW_",
        "colab_type": "code",
        "colab": {}
      },
      "source": [
        "# #Random Forest\n",
        "random = RandomForestClassifier(n_estimators = 75, criterion = 'entropy')\n",
        "random_cross = fit_and_evaluate(random)\n",
        "\n",
        "print('Random Forest Performance on the test set: Cross Validation Score = %0.4f' % random_cross)"
      ],
      "execution_count": 0,
      "outputs": []
    },
    {
      "cell_type": "markdown",
      "metadata": {
        "id": "pZBBgjbleihz",
        "colab_type": "text"
      },
      "source": [
        "#Logistic Regression"
      ]
    },
    {
      "cell_type": "code",
      "metadata": {
        "id": "-jBFi1i6J4YS",
        "colab_type": "code",
        "colab": {
          "base_uri": "https://localhost:8080/",
          "height": 258
        },
        "outputId": "26860af1-7f6b-4a66-f65f-d5b72e01f588"
      },
      "source": [
        "'''\n",
        "# # Logistic Regression\n",
        "logr = LogisticRegression()\n",
        "logr_cross = fit_and_evaluate(logr)\n",
        "\n",
        "print('Logistic Regression Performance on the test set: Cross Validation Score = %0.4f' % logr_cross)\n",
        "'''"
      ],
      "execution_count": 8,
      "outputs": [
        {
          "output_type": "stream",
          "text": [
            "/usr/local/lib/python3.6/dist-packages/sklearn/linear_model/logistic.py:432: FutureWarning: Default solver will be changed to 'lbfgs' in 0.22. Specify a solver to silence this warning.\n",
            "  FutureWarning)\n",
            "/usr/local/lib/python3.6/dist-packages/sklearn/linear_model/logistic.py:432: FutureWarning: Default solver will be changed to 'lbfgs' in 0.22. Specify a solver to silence this warning.\n",
            "  FutureWarning)\n",
            "/usr/local/lib/python3.6/dist-packages/sklearn/linear_model/logistic.py:432: FutureWarning: Default solver will be changed to 'lbfgs' in 0.22. Specify a solver to silence this warning.\n",
            "  FutureWarning)\n",
            "/usr/local/lib/python3.6/dist-packages/sklearn/linear_model/logistic.py:432: FutureWarning: Default solver will be changed to 'lbfgs' in 0.22. Specify a solver to silence this warning.\n",
            "  FutureWarning)\n",
            "/usr/local/lib/python3.6/dist-packages/sklearn/linear_model/logistic.py:432: FutureWarning: Default solver will be changed to 'lbfgs' in 0.22. Specify a solver to silence this warning.\n",
            "  FutureWarning)\n",
            "/usr/local/lib/python3.6/dist-packages/sklearn/linear_model/logistic.py:432: FutureWarning: Default solver will be changed to 'lbfgs' in 0.22. Specify a solver to silence this warning.\n",
            "  FutureWarning)\n"
          ],
          "name": "stderr"
        },
        {
          "output_type": "stream",
          "text": [
            "Logistic Regression Performance on the test set: Cross Validation Score = 0.7741\n"
          ],
          "name": "stdout"
        }
      ]
    },
    {
      "cell_type": "markdown",
      "metadata": {
        "id": "GOtmWq7hem5h",
        "colab_type": "text"
      },
      "source": [
        "#XGBClassifier"
      ]
    },
    {
      "cell_type": "code",
      "metadata": {
        "id": "y81kb5TiJYUA",
        "colab_type": "code",
        "colab": {
          "base_uri": "https://localhost:8080/",
          "height": 34
        },
        "outputId": "a1a40d99-f61b-4bfd-e4a1-6848b46a4bd3"
      },
      "source": [
        "'''\n",
        "xgb = XGBClassifier(max_depth=3,learning_rate=0.1,n_estimators=100)\n",
        "xgb_cross = fit_and_evaluate(xgb)\n",
        "\n",
        "print('XGB Performance on the test set: Cross Validation Score = %0.4f' % xgb_cross)\n",
        "'''"
      ],
      "execution_count": 7,
      "outputs": [
        {
          "output_type": "stream",
          "text": [
            "XGB Performance on the test set: Cross Validation Score = 0.7742\n"
          ],
          "name": "stdout"
        }
      ]
    },
    {
      "cell_type": "markdown",
      "metadata": {
        "id": "XaDypApeLG_T",
        "colab_type": "text"
      },
      "source": [
        "# **Neural Net**"
      ]
    },
    {
      "cell_type": "code",
      "metadata": {
        "id": "xD8ZcJ63FPPs",
        "colab_type": "code",
        "colab": {
          "base_uri": "https://localhost:8080/",
          "height": 3434
        },
        "outputId": "3ec451e2-6fca-4fbf-d925-7b24ae13072f"
      },
      "source": [
        "'''\n",
        "from keras import Sequential\n",
        "from keras.layers import Dense\n",
        "\n",
        "classifier = Sequential()\n",
        "#First Hidden Layer\n",
        "classifier.add(Dense(16, activation='relu', kernel_initializer='random_normal', input_dim=32))\n",
        "#Second  Hidden Layer\n",
        "classifier.add(Dense(10, activation='relu', kernel_initializer='random_normal'))\n",
        "\n",
        "#Output Layer\n",
        "classifier.add(Dense(1, activation='sigmoid', kernel_initializer='random_normal'))\n",
        "\n",
        "#Compiling the neural network\n",
        "classifier.compile(optimizer ='adam',loss='binary_crossentropy', metrics =['accuracy'])\n",
        "classifier.fit(X_train,y_train, batch_size=50, epochs=100)\n",
        "'''\n",
        "\n",
        "\n",
        "\n"
      ],
      "execution_count": 22,
      "outputs": [
        {
          "output_type": "stream",
          "text": [
            "Epoch 1/100\n",
            "79835/79835 [==============================] - 3s 37us/step - loss: 0.5052 - acc: 0.7738\n",
            "Epoch 2/100\n",
            "79835/79835 [==============================] - 2s 29us/step - loss: 0.4939 - acc: 0.7740\n",
            "Epoch 3/100\n",
            "79835/79835 [==============================] - 2s 29us/step - loss: 0.4928 - acc: 0.7740\n",
            "Epoch 4/100\n",
            "79835/79835 [==============================] - 2s 29us/step - loss: 0.4922 - acc: 0.7740\n",
            "Epoch 5/100\n",
            "79835/79835 [==============================] - 2s 29us/step - loss: 0.4919 - acc: 0.7740\n",
            "Epoch 6/100\n",
            "79835/79835 [==============================] - 2s 29us/step - loss: 0.4916 - acc: 0.7740\n",
            "Epoch 7/100\n",
            "79835/79835 [==============================] - 2s 29us/step - loss: 0.4914 - acc: 0.7740\n",
            "Epoch 8/100\n",
            "79835/79835 [==============================] - 2s 29us/step - loss: 0.4913 - acc: 0.7740\n",
            "Epoch 9/100\n",
            "79835/79835 [==============================] - 2s 29us/step - loss: 0.4911 - acc: 0.7740\n",
            "Epoch 10/100\n",
            "79835/79835 [==============================] - 2s 29us/step - loss: 0.4909 - acc: 0.7740\n",
            "Epoch 11/100\n",
            "79835/79835 [==============================] - 2s 29us/step - loss: 0.4907 - acc: 0.7740\n",
            "Epoch 12/100\n",
            "79835/79835 [==============================] - 2s 29us/step - loss: 0.4907 - acc: 0.7740\n",
            "Epoch 13/100\n",
            "79835/79835 [==============================] - 2s 29us/step - loss: 0.4904 - acc: 0.7740\n",
            "Epoch 14/100\n",
            "79835/79835 [==============================] - 2s 29us/step - loss: 0.4904 - acc: 0.7740\n",
            "Epoch 15/100\n",
            "79835/79835 [==============================] - 2s 29us/step - loss: 0.4901 - acc: 0.7740\n",
            "Epoch 16/100\n",
            "79835/79835 [==============================] - 2s 29us/step - loss: 0.4900 - acc: 0.7740\n",
            "Epoch 17/100\n",
            "79835/79835 [==============================] - 2s 29us/step - loss: 0.4898 - acc: 0.7740\n",
            "Epoch 18/100\n",
            "79835/79835 [==============================] - 2s 28us/step - loss: 0.4896 - acc: 0.7741\n",
            "Epoch 19/100\n",
            "79835/79835 [==============================] - 2s 29us/step - loss: 0.4895 - acc: 0.7742\n",
            "Epoch 20/100\n",
            "79835/79835 [==============================] - 2s 29us/step - loss: 0.4894 - acc: 0.7742\n",
            "Epoch 21/100\n",
            "79835/79835 [==============================] - 2s 28us/step - loss: 0.4893 - acc: 0.7742\n",
            "Epoch 22/100\n",
            "79835/79835 [==============================] - 2s 29us/step - loss: 0.4891 - acc: 0.7742\n",
            "Epoch 23/100\n",
            "79835/79835 [==============================] - 2s 28us/step - loss: 0.4890 - acc: 0.7740\n",
            "Epoch 24/100\n",
            "79835/79835 [==============================] - 2s 29us/step - loss: 0.4888 - acc: 0.7742\n",
            "Epoch 25/100\n",
            "79835/79835 [==============================] - 2s 29us/step - loss: 0.4884 - acc: 0.7742\n",
            "Epoch 26/100\n",
            "79835/79835 [==============================] - 2s 28us/step - loss: 0.4883 - acc: 0.7743\n",
            "Epoch 27/100\n",
            "79835/79835 [==============================] - 2s 28us/step - loss: 0.4881 - acc: 0.7743\n",
            "Epoch 28/100\n",
            "79835/79835 [==============================] - 2s 28us/step - loss: 0.4880 - acc: 0.7741\n",
            "Epoch 29/100\n",
            "79835/79835 [==============================] - 2s 29us/step - loss: 0.4878 - acc: 0.7746\n",
            "Epoch 30/100\n",
            "79835/79835 [==============================] - 2s 29us/step - loss: 0.4876 - acc: 0.7744\n",
            "Epoch 31/100\n",
            "79835/79835 [==============================] - 2s 29us/step - loss: 0.4875 - acc: 0.7743\n",
            "Epoch 32/100\n",
            "79835/79835 [==============================] - 2s 29us/step - loss: 0.4873 - acc: 0.7747\n",
            "Epoch 33/100\n",
            "79835/79835 [==============================] - 2s 29us/step - loss: 0.4870 - acc: 0.7749\n",
            "Epoch 34/100\n",
            "79835/79835 [==============================] - 2s 29us/step - loss: 0.4870 - acc: 0.7745\n",
            "Epoch 35/100\n",
            "79835/79835 [==============================] - 2s 28us/step - loss: 0.4868 - acc: 0.7747\n",
            "Epoch 36/100\n",
            "79835/79835 [==============================] - 2s 29us/step - loss: 0.4869 - acc: 0.7749\n",
            "Epoch 37/100\n",
            "79835/79835 [==============================] - 2s 29us/step - loss: 0.4867 - acc: 0.7746\n",
            "Epoch 38/100\n",
            "79835/79835 [==============================] - 2s 28us/step - loss: 0.4867 - acc: 0.7749\n",
            "Epoch 39/100\n",
            "79835/79835 [==============================] - 2s 29us/step - loss: 0.4865 - acc: 0.7749\n",
            "Epoch 40/100\n",
            "79835/79835 [==============================] - 2s 28us/step - loss: 0.4863 - acc: 0.7750\n",
            "Epoch 41/100\n",
            "79835/79835 [==============================] - 2s 29us/step - loss: 0.4863 - acc: 0.7744\n",
            "Epoch 42/100\n",
            "79835/79835 [==============================] - 2s 28us/step - loss: 0.4860 - acc: 0.7748\n",
            "Epoch 43/100\n",
            "79835/79835 [==============================] - 2s 29us/step - loss: 0.4860 - acc: 0.7747\n",
            "Epoch 44/100\n",
            "79835/79835 [==============================] - 2s 29us/step - loss: 0.4856 - acc: 0.7750\n",
            "Epoch 45/100\n",
            "79835/79835 [==============================] - 2s 28us/step - loss: 0.4856 - acc: 0.7749\n",
            "Epoch 46/100\n",
            "79835/79835 [==============================] - 2s 29us/step - loss: 0.4855 - acc: 0.7751\n",
            "Epoch 47/100\n",
            "79835/79835 [==============================] - 2s 29us/step - loss: 0.4855 - acc: 0.7750\n",
            "Epoch 48/100\n",
            "79835/79835 [==============================] - 2s 29us/step - loss: 0.4855 - acc: 0.7750\n",
            "Epoch 49/100\n",
            "79835/79835 [==============================] - 2s 29us/step - loss: 0.4854 - acc: 0.7746\n",
            "Epoch 50/100\n",
            "79835/79835 [==============================] - 2s 29us/step - loss: 0.4852 - acc: 0.7753\n",
            "Epoch 51/100\n",
            "79835/79835 [==============================] - 2s 28us/step - loss: 0.4852 - acc: 0.7753\n",
            "Epoch 52/100\n",
            "79835/79835 [==============================] - 2s 28us/step - loss: 0.4851 - acc: 0.7749\n",
            "Epoch 53/100\n",
            "79835/79835 [==============================] - 2s 29us/step - loss: 0.4851 - acc: 0.7749\n",
            "Epoch 54/100\n",
            "79835/79835 [==============================] - 2s 28us/step - loss: 0.4849 - acc: 0.7754\n",
            "Epoch 55/100\n",
            "79835/79835 [==============================] - 2s 28us/step - loss: 0.4850 - acc: 0.7751\n",
            "Epoch 56/100\n",
            "79835/79835 [==============================] - 2s 28us/step - loss: 0.4849 - acc: 0.7756\n",
            "Epoch 57/100\n",
            "79835/79835 [==============================] - 2s 28us/step - loss: 0.4850 - acc: 0.7753\n",
            "Epoch 58/100\n",
            "79835/79835 [==============================] - 2s 29us/step - loss: 0.4847 - acc: 0.7754\n",
            "Epoch 59/100\n",
            "79835/79835 [==============================] - 2s 29us/step - loss: 0.4848 - acc: 0.7751\n",
            "Epoch 60/100\n",
            "79835/79835 [==============================] - 2s 28us/step - loss: 0.4848 - acc: 0.7751\n",
            "Epoch 61/100\n",
            "79835/79835 [==============================] - 2s 29us/step - loss: 0.4848 - acc: 0.7753\n",
            "Epoch 62/100\n",
            "79835/79835 [==============================] - 2s 29us/step - loss: 0.4846 - acc: 0.7754\n",
            "Epoch 63/100\n",
            "79835/79835 [==============================] - 2s 29us/step - loss: 0.4845 - acc: 0.7755\n",
            "Epoch 64/100\n",
            "79835/79835 [==============================] - 2s 29us/step - loss: 0.4847 - acc: 0.7755\n",
            "Epoch 65/100\n",
            "79835/79835 [==============================] - 2s 29us/step - loss: 0.4846 - acc: 0.7751\n",
            "Epoch 66/100\n",
            "79835/79835 [==============================] - 2s 29us/step - loss: 0.4844 - acc: 0.7753\n",
            "Epoch 67/100\n",
            "79835/79835 [==============================] - 2s 28us/step - loss: 0.4845 - acc: 0.7756\n",
            "Epoch 68/100\n",
            "79835/79835 [==============================] - 2s 29us/step - loss: 0.4846 - acc: 0.7753\n",
            "Epoch 69/100\n",
            "79835/79835 [==============================] - 2s 28us/step - loss: 0.4843 - acc: 0.7752\n",
            "Epoch 70/100\n",
            "79835/79835 [==============================] - 2s 29us/step - loss: 0.4843 - acc: 0.7750\n",
            "Epoch 71/100\n",
            "79835/79835 [==============================] - 2s 29us/step - loss: 0.4843 - acc: 0.7753\n",
            "Epoch 72/100\n",
            "79835/79835 [==============================] - 2s 29us/step - loss: 0.4842 - acc: 0.7754\n",
            "Epoch 73/100\n",
            "79835/79835 [==============================] - 2s 28us/step - loss: 0.4842 - acc: 0.7752\n",
            "Epoch 74/100\n",
            "79835/79835 [==============================] - 2s 29us/step - loss: 0.4842 - acc: 0.7756\n",
            "Epoch 75/100\n",
            "79835/79835 [==============================] - 2s 28us/step - loss: 0.4841 - acc: 0.7754\n",
            "Epoch 76/100\n",
            "79835/79835 [==============================] - 2s 28us/step - loss: 0.4840 - acc: 0.7754\n",
            "Epoch 77/100\n",
            "79835/79835 [==============================] - 2s 29us/step - loss: 0.4841 - acc: 0.7754\n",
            "Epoch 78/100\n",
            "79835/79835 [==============================] - 2s 28us/step - loss: 0.4840 - acc: 0.7755\n",
            "Epoch 79/100\n",
            "79835/79835 [==============================] - 2s 29us/step - loss: 0.4840 - acc: 0.7756\n",
            "Epoch 80/100\n",
            "79835/79835 [==============================] - 2s 29us/step - loss: 0.4840 - acc: 0.7758\n",
            "Epoch 81/100\n",
            "79835/79835 [==============================] - 2s 29us/step - loss: 0.4838 - acc: 0.7754\n",
            "Epoch 82/100\n",
            "79835/79835 [==============================] - 2s 29us/step - loss: 0.4838 - acc: 0.7755\n",
            "Epoch 83/100\n",
            "79835/79835 [==============================] - 2s 29us/step - loss: 0.4838 - acc: 0.7755\n",
            "Epoch 84/100\n",
            "79835/79835 [==============================] - 2s 29us/step - loss: 0.4837 - acc: 0.7756\n",
            "Epoch 85/100\n",
            "79835/79835 [==============================] - 2s 29us/step - loss: 0.4837 - acc: 0.7753\n",
            "Epoch 86/100\n",
            "79835/79835 [==============================] - 2s 29us/step - loss: 0.4837 - acc: 0.7753\n",
            "Epoch 87/100\n",
            "79835/79835 [==============================] - 2s 29us/step - loss: 0.4838 - acc: 0.7753\n",
            "Epoch 88/100\n",
            "79835/79835 [==============================] - 2s 29us/step - loss: 0.4835 - acc: 0.7757\n",
            "Epoch 89/100\n",
            "79835/79835 [==============================] - 2s 29us/step - loss: 0.4836 - acc: 0.7753\n",
            "Epoch 90/100\n",
            "79835/79835 [==============================] - 2s 29us/step - loss: 0.4836 - acc: 0.7754\n",
            "Epoch 91/100\n",
            "79835/79835 [==============================] - 2s 28us/step - loss: 0.4833 - acc: 0.7757\n",
            "Epoch 92/100\n",
            "79835/79835 [==============================] - 2s 29us/step - loss: 0.4836 - acc: 0.7754\n",
            "Epoch 93/100\n",
            "79835/79835 [==============================] - 2s 29us/step - loss: 0.4834 - acc: 0.7758\n",
            "Epoch 94/100\n",
            "79835/79835 [==============================] - 2s 28us/step - loss: 0.4833 - acc: 0.7755\n",
            "Epoch 95/100\n",
            "79835/79835 [==============================] - 2s 30us/step - loss: 0.4834 - acc: 0.7757\n",
            "Epoch 96/100\n",
            "79835/79835 [==============================] - 2s 31us/step - loss: 0.4833 - acc: 0.7756\n",
            "Epoch 97/100\n",
            "79835/79835 [==============================] - 2s 30us/step - loss: 0.4833 - acc: 0.7756\n",
            "Epoch 98/100\n",
            "79835/79835 [==============================] - 2s 29us/step - loss: 0.4832 - acc: 0.7757\n",
            "Epoch 99/100\n",
            "79835/79835 [==============================] - 2s 29us/step - loss: 0.4834 - acc: 0.7757\n",
            "Epoch 100/100\n",
            "79835/79835 [==============================] - 2s 29us/step - loss: 0.4833 - acc: 0.7759\n"
          ],
          "name": "stdout"
        },
        {
          "output_type": "execute_result",
          "data": {
            "text/plain": [
              "<keras.callbacks.History at 0x7f295a5d7a90>"
            ]
          },
          "metadata": {
            "tags": []
          },
          "execution_count": 22
        }
      ]
    },
    {
      "cell_type": "code",
      "metadata": {
        "id": "vTCA0DpUDRXJ",
        "colab_type": "code",
        "colab": {}
      },
      "source": [
        ""
      ],
      "execution_count": 0,
      "outputs": []
    },
    {
      "cell_type": "code",
      "metadata": {
        "id": "ovwFmeu0DRXM",
        "colab_type": "code",
        "colab": {}
      },
      "source": [
        ""
      ],
      "execution_count": 0,
      "outputs": []
    }
  ]
}